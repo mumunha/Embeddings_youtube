{
  "cells": [
    {
      "cell_type": "code",
      "execution_count": null,
      "metadata": {
        "id": "Db4gQSeP6xoM"
      },
      "outputs": [],
      "source": [
        "import gensim\n",
        "\n",
        "from google.colab import drive\n",
        "drive.mount('/content/drive')\n",
        "# fazer download do modelo e descompactar - atente para o locar que tem de ser salvo\n",
        "# encontrei aqui:\n",
        "# https://drive.google.com/file/d/0B7XkCwpI5KDYNlNUTTlSS21pQmM/edit?usp=sharing\n",
        "# (comando na seguinte celula descompacta - rodar apenas 1 vez)\n",
        "# !gunzip -f '/content/drive/MyDrive/Models/GoogleNews-vectors-negative300.bin.gz'"
      ]
    },
    {
      "cell_type": "code",
      "execution_count": null,
      "metadata": {
        "id": "4SJvKkF49wPt"
      },
      "outputs": [],
      "source": [
        "model = gensim.models.KeyedVectors.load_word2vec_format('/content/drive/MyDrive/Models/GoogleNews-vectors-negative300.bin', binary=True)\n"
      ]
    },
    {
      "cell_type": "code",
      "execution_count": null,
      "metadata": {
        "id": "KgSYXYH9il3b"
      },
      "outputs": [],
      "source": [
        "# carrega matriz\n",
        "model['cat']"
      ]
    },
    {
      "cell_type": "code",
      "execution_count": null,
      "metadata": {
        "colab": {
          "base_uri": "https://localhost:8080/"
        },
        "id": "wUQM8bReAC78",
        "outputId": "af7b52ae-7593-4cf9-b15d-1bb75597b6f2"
      },
      "outputs": [
        {
          "data": {
            "text/plain": [
              "0.18935716152191162"
            ]
          },
          "execution_count": 14,
          "metadata": {},
          "output_type": "execute_result"
        }
      ],
      "source": [
        "#verifica distancia entre palavras\n",
        "model.distance('dog', 'puppy')"
      ]
    },
    {
      "cell_type": "code",
      "execution_count": null,
      "metadata": {
        "id": "hgRpv1jtBiO0"
      },
      "outputs": [],
      "source": [
        "#lista palavras semelhantes\n",
        "model.similar_by_word('helicopter')"
      ]
    },
    {
      "cell_type": "code",
      "execution_count": null,
      "metadata": {
        "colab": {
          "base_uri": "https://localhost:8080/"
        },
        "id": "cveltyymCsXW",
        "outputId": "8a73c489-709b-4545-d75b-70ae87ed4ab9"
      },
      "outputs": [
        {
          "data": {
            "text/plain": [
              "[('Blue', 0.8938636183738708),\n",
              " ('Yellow', 0.8439185619354248),\n",
              " ('Green', 0.8427804708480835),\n",
              " ('Maroon', 0.8303996324539185),\n",
              " ('Purple', 0.7848874926567078),\n",
              " ('White', 0.782070517539978),\n",
              " ('Black', 0.7805926203727722),\n",
              " ('Wing_begonias', 0.7798739075660706),\n",
              " ('Silver', 0.7776999473571777),\n",
              " ('Brian_Helgeland_Mystic', 0.773264467716217)]"
            ]
          },
          "execution_count": 19,
          "metadata": {},
          "output_type": "execute_result"
        }
      ],
      "source": [
        "# operação matemática entre palavras\n",
        "# palavra1 - palavra2 + palavra3\n",
        "palavra1 = 'Red'\n",
        "palavra2 = 'Hot'\n",
        "palavra3 = 'Cool'\n",
        "\n",
        "model.most_similar_cosmul(positive=[palavra1,palavra3], negative=[palavra2])"
      ]
    }
  ],
  "metadata": {
    "colab": {
      "provenance": []
    },
    "kernelspec": {
      "display_name": "Python 3",
      "name": "python3"
    },
    "language_info": {
      "name": "python"
    }
  },
  "nbformat": 4,
  "nbformat_minor": 0
}
